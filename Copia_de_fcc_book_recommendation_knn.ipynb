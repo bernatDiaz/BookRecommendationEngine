{
  "nbformat": 4,
  "nbformat_minor": 0,
  "metadata": {
    "colab": {
      "name": "Copia de fcc_book_recommendation_knn.ipynb",
      "provenance": [],
      "collapsed_sections": []
    },
    "kernelspec": {
      "display_name": "Python 3",
      "language": "python",
      "name": "python3"
    },
    "language_info": {
      "codemirror_mode": {
        "name": "ipython",
        "version": 3
      },
      "file_extension": ".py",
      "mimetype": "text/x-python",
      "name": "python",
      "nbconvert_exporter": "python",
      "pygments_lexer": "ipython3",
      "version": "3.6.5"
    }
  },
  "cells": [
    {
      "cell_type": "markdown",
      "metadata": {
        "id": "uGd4NYQX1Rf_"
      },
      "source": [
        "*Note: You are currently reading this using Google Colaboratory which is a cloud-hosted version of Jupyter Notebook. This is a document containing both text cells for documentation and runnable code cells. If you are unfamiliar with Jupyter Notebook, watch this 3-minute introduction before starting this challenge: https://www.youtube.com/watch?v=inN8seMm7UI*\n",
        "\n",
        "---\n",
        "\n",
        "In this challenge, you will create a book recommendation algorithm using **K-Nearest Neighbors**.\n",
        "\n",
        "You will use the [Book-Crossings dataset](http://www2.informatik.uni-freiburg.de/~cziegler/BX/). This dataset contains 1.1 million ratings (scale of 1-10) of 270,000 books by 90,000 users. \n",
        "\n",
        "After importing and cleaning the data, use `NearestNeighbors` from `sklearn.neighbors` to develop a model that shows books that are similar to a given book. The Nearest Neighbors algorithm measures distance to determine the “closeness” of instances.\n",
        "\n",
        "Create a function named `get_recommends` that takes a book title (from the dataset) as an argument and returns a list of 5 similar books with their distances from the book argument.\n",
        "\n",
        "This code:\n",
        "\n",
        "`get_recommends(\"The Queen of the Damned (Vampire Chronicles (Paperback))\")`\n",
        "\n",
        "should return:\n",
        "\n",
        "```\n",
        "[\n",
        "  'The Queen of the Damned (Vampire Chronicles (Paperback))',\n",
        "  [\n",
        "    ['Catch 22', 0.793983519077301], \n",
        "    ['The Witching Hour (Lives of the Mayfair Witches)', 0.7448656558990479], \n",
        "    ['Interview with the Vampire', 0.7345068454742432],\n",
        "    ['The Tale of the Body Thief (Vampire Chronicles (Paperback))', 0.5376338362693787],\n",
        "    ['The Vampire Lestat (Vampire Chronicles, Book II)', 0.5178412199020386]\n",
        "  ]\n",
        "]\n",
        "```\n",
        "\n",
        "Notice that the data returned from `get_recommends()` is a list. The first element in the list is the book title passed in to the function. The second element in the list is a list of five more lists. Each of the five lists contains a recommended book and the distance from the recommended book to the book passed in to the function.\n",
        "\n",
        "If you graph the dataset (optional), you will notice that most books are not rated frequently. To ensure statistical significance, remove from the dataset users with less than 200 ratings and books with less than 100 ratings.\n",
        "\n",
        "The first three cells import libraries you may need and the data to use. The final cell is for testing. Write all your code in between those cells."
      ]
    },
    {
      "cell_type": "code",
      "metadata": {
        "id": "Y1onB6kUvo4Z"
      },
      "source": [
        "# import libraries (you may add additional imports but you may not have to)\n",
        "import numpy as np\n",
        "import pandas as pd\n",
        "from scipy.sparse import csr_matrix\n",
        "from sklearn.neighbors import NearestNeighbors\n",
        "import matplotlib.pyplot as plt"
      ],
      "execution_count": null,
      "outputs": []
    },
    {
      "cell_type": "code",
      "metadata": {
        "id": "iAQGqqO_vo4d",
        "colab": {
          "base_uri": "https://localhost:8080/"
        },
        "outputId": "4ad62540-7949-431d-ad9b-3e41ee221446"
      },
      "source": [
        "# get data files\n",
        "!wget https://cdn.freecodecamp.org/project-data/books/book-crossings.zip\n",
        "\n",
        "!unzip book-crossings.zip\n",
        "\n",
        "books_filename = 'BX-Books.csv'\n",
        "ratings_filename = 'BX-Book-Ratings.csv'"
      ],
      "execution_count": null,
      "outputs": [
        {
          "output_type": "stream",
          "name": "stdout",
          "text": [
            "--2021-09-21 14:57:30--  https://cdn.freecodecamp.org/project-data/books/book-crossings.zip\n",
            "Resolving cdn.freecodecamp.org (cdn.freecodecamp.org)... 104.26.3.33, 172.67.70.149, 104.26.2.33, ...\n",
            "Connecting to cdn.freecodecamp.org (cdn.freecodecamp.org)|104.26.3.33|:443... connected.\n",
            "HTTP request sent, awaiting response... 200 OK\n",
            "Length: 26085508 (25M) [application/zip]\n",
            "Saving to: ‘book-crossings.zip’\n",
            "\n",
            "book-crossings.zip  100%[===================>]  24.88M  13.7MB/s    in 1.8s    \n",
            "\n",
            "2021-09-21 14:57:32 (13.7 MB/s) - ‘book-crossings.zip’ saved [26085508/26085508]\n",
            "\n",
            "Archive:  book-crossings.zip\n",
            "  inflating: BX-Book-Ratings.csv     \n",
            "  inflating: BX-Books.csv            \n",
            "  inflating: BX-Users.csv            \n"
          ]
        }
      ]
    },
    {
      "cell_type": "code",
      "metadata": {
        "id": "NClILWOiEd6Q"
      },
      "source": [
        "# import csv data into dataframes\n",
        "df_books = pd.read_csv(\n",
        "    books_filename,\n",
        "    encoding = \"ISO-8859-1\",\n",
        "    sep=\";\",\n",
        "    header=0,\n",
        "    names=['isbn', 'title', 'author'],\n",
        "    usecols=['isbn', 'title', 'author'],\n",
        "    dtype={'isbn': 'str', 'title': 'str', 'author': 'str'})\n",
        "\n",
        "df_ratings = pd.read_csv(\n",
        "    ratings_filename,\n",
        "    encoding = \"ISO-8859-1\",\n",
        "    sep=\";\",\n",
        "    header=0,\n",
        "    names=['user', 'isbn', 'rating'],\n",
        "    usecols=['user', 'isbn', 'rating'],\n",
        "    dtype={'user': 'int32', 'isbn': 'str', 'rating': 'float32'})"
      ],
      "execution_count": null,
      "outputs": []
    },
    {
      "cell_type": "code",
      "metadata": {
        "id": "cSdlJmlxt6yK"
      },
      "source": [
        "book_count = {}\n",
        "for index, rating in df_ratings.iterrows():\n",
        "  book_count[rating['isbn']] = book_count.get(rating['isbn'], 0) + 1"
      ],
      "execution_count": null,
      "outputs": []
    },
    {
      "cell_type": "code",
      "metadata": {
        "id": "j37bRKMDu50N"
      },
      "source": [
        "user_count = {}\n",
        "for index, rating in df_ratings.iterrows():\n",
        "  user_count[rating['user']] = user_count.get(rating['user'], 0) + 1"
      ],
      "execution_count": null,
      "outputs": []
    },
    {
      "cell_type": "code",
      "metadata": {
        "colab": {
          "base_uri": "https://localhost:8080/"
        },
        "id": "OeD9pwrQ45TC",
        "outputId": "196fe816-afbc-48c7-a636-a94741a0de25"
      },
      "source": [
        "print(len(book_count))\n",
        "print(len(user_count))"
      ],
      "execution_count": null,
      "outputs": [
        {
          "output_type": "stream",
          "name": "stdout",
          "text": [
            "340556\n",
            "105283\n"
          ]
        }
      ]
    },
    {
      "cell_type": "code",
      "metadata": {
        "id": "wqB_O0LWvuE9",
        "colab": {
          "base_uri": "https://localhost:8080/"
        },
        "outputId": "c794bc1f-8362-4710-95c4-38baab83b474"
      },
      "source": [
        "#books to discard\n",
        "books_discarted = [k for k, v in book_count.items() if v < 100]\n",
        "print(len(books_discarted))"
      ],
      "execution_count": null,
      "outputs": [
        {
          "output_type": "stream",
          "name": "stdout",
          "text": [
            "339825\n"
          ]
        }
      ]
    },
    {
      "cell_type": "code",
      "metadata": {
        "colab": {
          "base_uri": "https://localhost:8080/"
        },
        "id": "CCu5ssZn5Jg6",
        "outputId": "91c5a0e0-c91a-4aa8-9a7b-5ba47166a857"
      },
      "source": [
        "books_to_keep = [k for k,v in book_count.items() if v >= 100]\n",
        "print(len(books_to_keep))"
      ],
      "execution_count": null,
      "outputs": [
        {
          "output_type": "stream",
          "name": "stdout",
          "text": [
            "731\n"
          ]
        }
      ]
    },
    {
      "cell_type": "code",
      "metadata": {
        "id": "d5WHsIDmxKzV",
        "colab": {
          "base_uri": "https://localhost:8080/"
        },
        "outputId": "3e11a3c1-cfc0-42d4-afbb-c7cd635f47bf"
      },
      "source": [
        "#users to discard\n",
        "users_discarted = [k for k,v in user_count.items() if v < 200]\n",
        "print(len(users_discarted))"
      ],
      "execution_count": null,
      "outputs": [
        {
          "output_type": "stream",
          "name": "stdout",
          "text": [
            "104378\n"
          ]
        }
      ]
    },
    {
      "cell_type": "code",
      "metadata": {
        "colab": {
          "base_uri": "https://localhost:8080/"
        },
        "id": "Nlc89jwy5Wvm",
        "outputId": "622c41c8-a5c1-44b5-ccbe-986afc13b40e"
      },
      "source": [
        "users_to_keep = [k for k,v in user_count.items() if v >= 200]\n",
        "print(len(users_to_keep))"
      ],
      "execution_count": null,
      "outputs": [
        {
          "output_type": "stream",
          "name": "stdout",
          "text": [
            "905\n"
          ]
        }
      ]
    },
    {
      "cell_type": "code",
      "metadata": {
        "colab": {
          "base_uri": "https://localhost:8080/"
        },
        "id": "JfKnn0YI6qOa",
        "outputId": "a2d139b7-f944-4eb3-ee6c-f10ee0bed33b"
      },
      "source": [
        "print(len(df_ratings.index))"
      ],
      "execution_count": null,
      "outputs": [
        {
          "output_type": "stream",
          "name": "stdout",
          "text": [
            "1149780\n"
          ]
        }
      ]
    },
    {
      "cell_type": "code",
      "metadata": {
        "id": "HQwEwQ1DMGIa",
        "colab": {
          "base_uri": "https://localhost:8080/"
        },
        "outputId": "6e76ca16-4850-4cc7-a450-3eee3719cd40"
      },
      "source": [
        "df_clear_books = df_ratings[~df_ratings.isbn.isin(books_discarted)]\n",
        "print(len(df_clear_books.index))"
      ],
      "execution_count": null,
      "outputs": [
        {
          "output_type": "stream",
          "name": "stdout",
          "text": [
            "138461\n"
          ]
        }
      ]
    },
    {
      "cell_type": "code",
      "metadata": {
        "id": "blZWFX8UNhHe",
        "colab": {
          "base_uri": "https://localhost:8080/"
        },
        "outputId": "1c0e6cec-477a-422e-d3e4-3e9205ebdc77"
      },
      "source": [
        "df_clear = df_clear_books[~df_clear_books.user.isin(users_discarted)]\n",
        "print(len(df_clear.index))"
      ],
      "execution_count": null,
      "outputs": [
        {
          "output_type": "stream",
          "name": "stdout",
          "text": [
            "49781\n"
          ]
        }
      ]
    },
    {
      "cell_type": "code",
      "metadata": {
        "colab": {
          "base_uri": "https://localhost:8080/"
        },
        "id": "ANYPp564_JXO",
        "outputId": "37a4cb15-76ac-4b6a-e999-fc86c31fecbc"
      },
      "source": [
        "df_merged = pd.merge(df_clear, df_books, how=\"left\")\n",
        "print(df_merged.head())\n",
        "print(len(df_merged.index))"
      ],
      "execution_count": null,
      "outputs": [
        {
          "output_type": "stream",
          "name": "stdout",
          "text": [
            "     user  ...              author\n",
            "0  277427  ...   James Finn Garner\n",
            "1  277427  ...  Barbara Kingsolver\n",
            "2  277427  ...        Ann Patchett\n",
            "3  277427  ...     Janet Evanovich\n",
            "4  277427  ...       Benjamin Hoff\n",
            "\n",
            "[5 rows x 5 columns]\n",
            "49781\n"
          ]
        }
      ]
    },
    {
      "cell_type": "code",
      "metadata": {
        "colab": {
          "base_uri": "https://localhost:8080/"
        },
        "id": "hbz_j2UFA8pu",
        "outputId": "7464186f-779f-43ce-9162-eef83da6b394"
      },
      "source": [
        "df_merged = df_merged.drop(['isbn','author'], axis=1)\n",
        "print(df_merged.head())"
      ],
      "execution_count": null,
      "outputs": [
        {
          "output_type": "stream",
          "name": "stdout",
          "text": [
            "     user  rating                                              title\n",
            "0  277427    10.0  Politically Correct Bedtime Stories: Modern Ta...\n",
            "1  277427     0.0                      The Poisonwood Bible: A Novel\n",
            "2  277427     0.0                                 Bel Canto: A Novel\n",
            "3  277427     9.0  One for the Money (Stephanie Plum Novels (Pape...\n",
            "4  277427     0.0                                    The Tao of Pooh\n"
          ]
        }
      ]
    },
    {
      "cell_type": "code",
      "metadata": {
        "colab": {
          "base_uri": "https://localhost:8080/"
        },
        "id": "OI07-MQDBaFV",
        "outputId": "1131688b-c820-4e9a-a90b-aa7ea713a438"
      },
      "source": [
        "df_merged = df_merged.drop_duplicates(subset=[\"title\",\"user\"],keep=\"first\");\n",
        "print(df_merged.head())"
      ],
      "execution_count": null,
      "outputs": [
        {
          "output_type": "stream",
          "name": "stdout",
          "text": [
            "     user  rating                                              title\n",
            "0  277427    10.0  Politically Correct Bedtime Stories: Modern Ta...\n",
            "1  277427     0.0                      The Poisonwood Bible: A Novel\n",
            "2  277427     0.0                                 Bel Canto: A Novel\n",
            "3  277427     9.0  One for the Money (Stephanie Plum Novels (Pape...\n",
            "4  277427     0.0                                    The Tao of Pooh\n"
          ]
        }
      ]
    },
    {
      "cell_type": "code",
      "metadata": {
        "id": "qiuTVPi6Qqoa",
        "colab": {
          "base_uri": "https://localhost:8080/"
        },
        "outputId": "c53cafb2-b7cb-4672-cbca-e8a79adfc1e2"
      },
      "source": [
        "df_pivot = df_merged.pivot(index='title',columns='user',values='rating').fillna(0)\n",
        "df_matrix = csr_matrix(df_pivot.values)\n",
        "print(df_pivot.head())"
      ],
      "execution_count": null,
      "outputs": [
        {
          "output_type": "stream",
          "name": "stdout",
          "text": [
            "user                 254     2276    2766    ...  277478  277639  278418\n",
            "title                                        ...                        \n",
            "NaN                     8.0     0.0     0.0  ...     0.0     0.0     0.0\n",
            "1984                    9.0     0.0     0.0  ...     0.0     0.0     0.0\n",
            "1st to Die: A Novel     0.0     0.0     0.0  ...     0.0     0.0     0.0\n",
            "2nd Chance              0.0    10.0     0.0  ...     0.0     0.0     0.0\n",
            "4 Blondes               0.0     0.0     0.0  ...     0.0     0.0     0.0\n",
            "\n",
            "[5 rows x 888 columns]\n"
          ]
        }
      ]
    },
    {
      "cell_type": "code",
      "metadata": {
        "id": "i5xXCozzN2eu"
      },
      "source": [
        "knn = NearestNeighbors(metric='cosine').fit(df_matrix)"
      ],
      "execution_count": null,
      "outputs": []
    },
    {
      "cell_type": "code",
      "metadata": {
        "id": "f5ZUd-L1SQz7"
      },
      "source": [
        "# function to return recommended books - this will be tested\n",
        "def get_recommends(book = \"\"):\n",
        "  X = df_pivot[df_pivot.index == book]\n",
        "  X = X.to_numpy().reshape(1,-1)\n",
        "  distances, indices = knn.kneighbors(X, 5)\n",
        "  recommended_books = []\n",
        "  recommended_books.append(book)\n",
        "\n",
        "  closest_books = []\n",
        "  for i in range(4,0,-1):\n",
        "    book = df_pivot.iloc[[indices.flatten()[i]]]\n",
        "    closest_books.append([book.index.values[0], distances.flatten()[i]])\n",
        "\n",
        "  recommended_books.append(closest_books)\n",
        "  return recommended_books"
      ],
      "execution_count": null,
      "outputs": []
    },
    {
      "cell_type": "code",
      "metadata": {
        "colab": {
          "base_uri": "https://localhost:8080/"
        },
        "id": "pF2gsBAfGbu9",
        "outputId": "bf71f15d-89d8-4e8b-d1d6-73aaf70f98f6"
      },
      "source": [
        "get_recommends(\"Where the Heart Is (Oprah's Book Club (Paperback))\")"
      ],
      "execution_count": null,
      "outputs": [
        {
          "output_type": "execute_result",
          "data": {
            "text/plain": [
              "[\"Where the Heart Is (Oprah's Book Club (Paperback))\",\n",
              " [['The Weight of Water', 0.77085835],\n",
              "  ['The Surgeon', 0.7699411],\n",
              "  ['I Know This Much Is True', 0.7677075],\n",
              "  ['The Lovely Bones: A Novel', 0.7234864]]]"
            ]
          },
          "metadata": {},
          "execution_count": 34
        }
      ]
    },
    {
      "cell_type": "markdown",
      "metadata": {
        "id": "eat9A2TKawHU"
      },
      "source": [
        "Use the cell below to test your function. The `test_book_recommendation()` function will inform you if you passed the challenge or need to keep trying."
      ]
    },
    {
      "cell_type": "code",
      "metadata": {
        "id": "jd2SLCh8oxMh",
        "colab": {
          "base_uri": "https://localhost:8080/"
        },
        "outputId": "d220dd35-5369-49e0-afe4-84c1b1c1ce55"
      },
      "source": [
        "books = get_recommends(\"Where the Heart Is (Oprah's Book Club (Paperback))\")\n",
        "print(books)\n",
        "\n",
        "def test_book_recommendation():\n",
        "  test_pass = True\n",
        "  recommends = get_recommends(\"Where the Heart Is (Oprah's Book Club (Paperback))\")\n",
        "  if recommends[0] != \"Where the Heart Is (Oprah's Book Club (Paperback))\":\n",
        "    test_pass = False\n",
        "  recommended_books = [\"I'll Be Seeing You\", 'The Weight of Water', 'The Surgeon', 'I Know This Much Is True']\n",
        "  recommended_books_dist = [0.8, 0.77, 0.77, 0.77]\n",
        "  for i in range(2): \n",
        "    if recommends[1][i][0] not in recommended_books:\n",
        "      test_pass = False\n",
        "    if abs(recommends[1][i][1] - recommended_books_dist[i]) >= 0.05:\n",
        "      test_pass = False\n",
        "  if test_pass:\n",
        "    print(\"You passed the challenge! 🎉🎉🎉🎉🎉\")\n",
        "  else:\n",
        "    print(\"You haven't passed yet. Keep trying!\")\n",
        "\n",
        "test_book_recommendation()"
      ],
      "execution_count": null,
      "outputs": [
        {
          "output_type": "stream",
          "name": "stdout",
          "text": [
            "[\"Where the Heart Is (Oprah's Book Club (Paperback))\", [['The Weight of Water', 0.77085835], ['The Surgeon', 0.7699411], ['I Know This Much Is True', 0.7677075], ['The Lovely Bones: A Novel', 0.7234864]]]\n",
            "You passed the challenge! 🎉🎉🎉🎉🎉\n"
          ]
        }
      ]
    }
  ]
}